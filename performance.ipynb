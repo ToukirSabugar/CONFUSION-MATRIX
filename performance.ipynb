{
  "nbformat": 4,
  "nbformat_minor": 0,
  "metadata": {
    "colab": {
      "provenance": [],
      "authorship_tag": "ABX9TyO8n4aqzerv4Lrm26P1itOR",
      "include_colab_link": true
    },
    "kernelspec": {
      "name": "python3",
      "display_name": "Python 3"
    },
    "language_info": {
      "name": "python"
    }
  },
  "cells": [
    {
      "cell_type": "markdown",
      "metadata": {
        "id": "view-in-github",
        "colab_type": "text"
      },
      "source": [
        "<a href=\"https://colab.research.google.com/github/ToukirSabugar/CONFUSION-MATRIX/blob/main/performance.ipynb\" target=\"_parent\"><img src=\"https://colab.research.google.com/assets/colab-badge.svg\" alt=\"Open In Colab\"/></a>"
      ]
    },
    {
      "cell_type": "code",
      "execution_count": null,
      "metadata": {
        "colab": {
          "base_uri": "https://localhost:8080/"
        },
        "id": "qDzSjpfkj-Ji",
        "outputId": "1dace2bc-b08b-42d5-cb65-d68e462ca8a1"
      },
      "outputs": [
        {
          "output_type": "execute_result",
          "data": {
            "text/plain": [
              "2"
            ]
          },
          "metadata": {},
          "execution_count": 5
        }
      ],
      "source": [
        "import numpy as np\n",
        "from sklearn.metrics import accuracy_score\n",
        "y_pred = [0, 2, 1, 3]\n",
        "y_true = [0, 1, 2, 3]\n",
        "accuracy_score(y_true, y_pred)\n",
        "\n",
        "accuracy_score(y_true, y_pred, normalize=False)\n",
        "\n"
      ]
    },
    {
      "cell_type": "code",
      "source": [],
      "metadata": {
        "id": "0Xt7g4BAlSVS"
      },
      "execution_count": null,
      "outputs": []
    },
    {
      "cell_type": "code",
      "source": [
        "accuracy_score(np.array([[0, 1], [1, 1]]), np.ones((2, 2)))"
      ],
      "metadata": {
        "colab": {
          "base_uri": "https://localhost:8080/"
        },
        "id": "f6W4orr8ka9A",
        "outputId": "7f19ea42-9df2-4e69-9a4b-9efd756f546f"
      },
      "execution_count": null,
      "outputs": [
        {
          "output_type": "execute_result",
          "data": {
            "text/plain": [
              "0.5"
            ]
          },
          "metadata": {},
          "execution_count": 2
        }
      ]
    },
    {
      "cell_type": "code",
      "source": [
        "import numpy as np\n",
        "from sklearn.metrics import top_k_accuracy_score\n",
        "y_true = np.array([0, 1, 2, 2])\n",
        "y_score = np.array([[0.5, 0.2, 0.2],\n",
        "                    [0.3, 0.4, 0.2],\n",
        "                    [0.2, 0.4, 0.3],\n",
        "                    [0.7, 0.2, 0.1]])\n",
        "top_k_accuracy_score(y_true, y_score, k=2)\n",
        "\n",
        "# Not normalizing gives the number of \"correctly\" classified samples\n",
        "top_k_accuracy_score(y_true, y_score, k=2, normalize=False)"
      ],
      "metadata": {
        "colab": {
          "base_uri": "https://localhost:8080/"
        },
        "id": "l2gzrAyHkhYA",
        "outputId": "1556454d-c830-4c17-8a3b-16b1ffac3aaf"
      },
      "execution_count": null,
      "outputs": [
        {
          "output_type": "execute_result",
          "data": {
            "text/plain": [
              "3"
            ]
          },
          "metadata": {},
          "execution_count": 3
        }
      ]
    },
    {
      "cell_type": "code",
      "source": [
        "from sklearn.metrics import confusion_matrix\n",
        "y_true = [2, 0, 2, 2, 0, 1]\n",
        "y_pred = [0, 0, 2, 2, 0, 2]\n",
        "confusion_matrix(y_true, y_pred)"
      ],
      "metadata": {
        "colab": {
          "base_uri": "https://localhost:8080/"
        },
        "id": "yFkJJSselTQB",
        "outputId": "538b116d-39c5-4617-c7d2-b73559b82528"
      },
      "execution_count": null,
      "outputs": [
        {
          "output_type": "execute_result",
          "data": {
            "text/plain": [
              "array([[2, 0, 0],\n",
              "       [0, 0, 1],\n",
              "       [1, 0, 2]])"
            ]
          },
          "metadata": {},
          "execution_count": 6
        }
      ]
    },
    {
      "cell_type": "code",
      "source": [
        "from sklearn import metrics\n",
        "y_pred = [0, 1, 0, 0]\n",
        "y_true = [0, 1, 0, 1]\n",
        "metrics.precision_score(y_true, y_pred)\n",
        "\n",
        "metrics.recall_score(y_true, y_pred)\n",
        "\n",
        "metrics.f1_score(y_true, y_pred)\n",
        "\n",
        "metrics.fbeta_score(y_true, y_pred, beta=0.5)\n",
        "\n",
        "metrics.fbeta_score(y_true, y_pred, beta=1)\n",
        "\n",
        "metrics.fbeta_score(y_true, y_pred, beta=2)\n",
        "\n",
        "metrics.precision_recall_fscore_support(y_true, y_pred, beta=0.5)\n",
        "\n",
        "\n",
        "\n",
        "import numpy as np\n",
        "from sklearn.metrics import precision_recall_curve\n",
        "from sklearn.metrics import average_precision_score\n",
        "y_true = np.array([0, 0, 1, 1])\n",
        "y_scores = np.array([0.1, 0.4, 0.35, 0.8])\n",
        "precision, recall, threshold = precision_recall_curve(y_true, y_scores)\n",
        "precision\n",
        "\n",
        "recall\n",
        "\n",
        "threshold\n",
        "\n",
        "average_precision_score(y_true, y_scores)"
      ],
      "metadata": {
        "colab": {
          "base_uri": "https://localhost:8080/"
        },
        "id": "QPpC2gqNliNw",
        "outputId": "6392f3ad-fa3e-4573-c17b-498acd5f6ea5"
      },
      "execution_count": null,
      "outputs": [
        {
          "output_type": "execute_result",
          "data": {
            "text/plain": [
              "0.8333333333333333"
            ]
          },
          "metadata": {},
          "execution_count": 7
        }
      ]
    }
  ]
}